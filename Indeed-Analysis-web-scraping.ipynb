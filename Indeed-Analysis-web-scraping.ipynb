{
 "cells": [
  {
   "cell_type": "markdown",
   "id": "79b9726f",
   "metadata": {},
   "source": [
    "we're scraping to grab job title, date of posting, company, required skills for the job job description\n",
    "\n",
    "To know the most in demand job we want to have the jobs, with their date of posting. so we grab thsoe posted over  years then we simply check the amount jobs that lead i.e the most jobs demanded for within the last 5 years\n",
    "\n",
    "for the recommending we want to train the model on the skills as features and the jobs as a target that is required skills needed for a job determins the type of job to e recommended so a user can just input his skills and jobs are recommended for him based on that"
   ]
  },
  {
   "cell_type": "markdown",
   "id": "d579992c",
   "metadata": {},
   "source": [
    "#### WEB SCRAPING"
   ]
  },
  {
   "cell_type": "code",
   "execution_count": 1,
   "id": "3e0427e5",
   "metadata": {},
   "outputs": [],
   "source": [
    "# first, the required imports\n",
    "from bs4 import BeautifulSoup\n",
    "import csv\n",
    "from datetime import datetime\n",
    "import requests\n"
   ]
  },
  {
   "cell_type": "code",
   "execution_count": 2,
   "id": "ee75bc46",
   "metadata": {},
   "outputs": [],
   "source": [
    "def get_url(position):\n",
    "    \"\"\"Generates a url for each position(web developer, etc)\"\"\"\n",
    "    url_template = 'https://ng.indeed.com/jobs?q={}&start=0'\n",
    "    url = url_template.format(position)\n",
    "    return url"
   ]
  },
  {
   "cell_type": "code",
   "execution_count": 3,
   "id": "c6db9b5b",
   "metadata": {},
   "outputs": [
    {
     "data": {
      "text/plain": [
       "'https://ng.indeed.com/jobs?q=Web developer&start=0'"
      ]
     },
     "execution_count": 3,
     "metadata": {},
     "output_type": "execute_result"
    }
   ],
   "source": [
    "url = get_url('Web developer')\n",
    "url"
   ]
  },
  {
   "cell_type": "code",
   "execution_count": 4,
   "id": "b7c7ec6e",
   "metadata": {},
   "outputs": [
    {
     "data": {
      "text/plain": [
       "<Response [200]>"
      ]
     },
     "execution_count": 4,
     "metadata": {},
     "output_type": "execute_result"
    }
   ],
   "source": [
    "# Extracting the raw html\n",
    "# Access the url with the request object\n",
    "response = requests.get(url)\n",
    "response"
   ]
  },
  {
   "cell_type": "code",
   "execution_count": 5,
   "id": "38634560",
   "metadata": {},
   "outputs": [],
   "source": [
    "# Scrape the web page content\n",
    "web_page = response.text\n",
    "# Create a soup object(sl_soup) for parsing the webpage using html parser\n",
    "sl_soup = BeautifulSoup(web_page, 'html.parser')"
   ]
  },
  {
   "cell_type": "code",
   "execution_count": 6,
   "id": "ccc12c9d",
   "metadata": {},
   "outputs": [
    {
     "data": {
      "text/plain": [
       "15"
      ]
     },
     "execution_count": 6,
     "metadata": {},
     "output_type": "execute_result"
    }
   ],
   "source": [
    "cards = sl_soup.findAll('div', 'cardOutline')\n",
    "len(cards)"
   ]
  },
  {
   "cell_type": "code",
   "execution_count": 19,
   "id": "7585e682",
   "metadata": {},
   "outputs": [],
   "source": [
    "# Prototype the extraction of a single record/card\n",
    "card = cards[1]"
   ]
  },
  {
   "cell_type": "code",
   "execution_count": 32,
   "id": "35c948e2",
   "metadata": {},
   "outputs": [
    {
     "data": {
      "text/plain": [
       "'Frontend Developer'"
      ]
     },
     "execution_count": 32,
     "metadata": {},
     "output_type": "execute_result"
    }
   ],
   "source": [
    "atag = card.h2.a\n",
    "job_title = atag.span.get('title')\n",
    "job_title"
   ]
  },
  {
   "cell_type": "code",
   "execution_count": 33,
   "id": "6b889878",
   "metadata": {},
   "outputs": [
    {
     "data": {
      "text/plain": [
       "'https://ng.indeed.com/company/Sabi/jobs/Frontend-Developer-b2eb96beda787da6?fccid=6a333fef94a2ad5e&vjs=3'"
      ]
     },
     "execution_count": 33,
     "metadata": {},
     "output_type": "execute_result"
    }
   ],
   "source": [
    "job_url = 'https://ng.indeed.com' + atag.get('href')\n",
    "job_url"
   ]
  },
  {
   "cell_type": "code",
   "execution_count": 22,
   "id": "ff47977d",
   "metadata": {},
   "outputs": [
    {
     "data": {
      "text/plain": [
       "'Sabi'"
      ]
     },
     "execution_count": 22,
     "metadata": {},
     "output_type": "execute_result"
    }
   ],
   "source": [
    "company_name = card.find('span', 'companyName').text\n",
    "company_name"
   ]
  },
  {
   "cell_type": "code",
   "execution_count": 23,
   "id": "529f1c32",
   "metadata": {},
   "outputs": [
    {
     "data": {
      "text/plain": [
       "'Lagos'"
      ]
     },
     "execution_count": 23,
     "metadata": {},
     "output_type": "execute_result"
    }
   ],
   "source": [
    "company_location = card.find('div', {'class': 'companyLocation'}).text\n",
    "company_location"
   ]
  },
  {
   "cell_type": "code",
   "execution_count": 24,
   "id": "98bfbc9f",
   "metadata": {},
   "outputs": [
    {
     "data": {
      "text/plain": [
       "'Craft code that meets our internal standards for style, maintainability, and best practices for a high-scale web environment.'"
      ]
     },
     "execution_count": 24,
     "metadata": {},
     "output_type": "execute_result"
    }
   ],
   "source": [
    "job_description = card.find('div', 'job-snippet').text.strip()\n",
    "job_description"
   ]
  },
  {
   "cell_type": "code",
   "execution_count": 36,
   "id": "e182835c",
   "metadata": {},
   "outputs": [
    {
     "data": {
      "text/plain": [
       "'Posted 1 day ago'"
      ]
     },
     "execution_count": 36,
     "metadata": {},
     "output_type": "execute_result"
    }
   ],
   "source": [
    "date_posted = card.find('span', 'date').text[6:]\n",
    "date_posted"
   ]
  },
  {
   "cell_type": "code",
   "execution_count": 26,
   "id": "59fa0386",
   "metadata": {},
   "outputs": [
    {
     "data": {
      "text/plain": [
       "'2022-07-30'"
      ]
     },
     "execution_count": 26,
     "metadata": {},
     "output_type": "execute_result"
    }
   ],
   "source": [
    "today = datetime.today().strftime('%Y-%m-%d')\n",
    "today"
   ]
  },
  {
   "cell_type": "code",
   "execution_count": 27,
   "id": "11e07aa5",
   "metadata": {},
   "outputs": [
    {
     "data": {
      "text/plain": [
       "''"
      ]
     },
     "execution_count": 27,
     "metadata": {},
     "output_type": "execute_result"
    }
   ],
   "source": [
    "try:\n",
    "    job_salary = card.find('div', 'metadata salary-snippet-container').text\n",
    "except:\n",
    "    job_salary = ''\n",
    "\n",
    "#     Alternatively with if block\n",
    "# if card.find('div', 'metadata salary-snippet-container') == None:\n",
    "#     salary = None\n",
    "# else:\n",
    "#     salary = card.find('div', 'metadata salary-snippet-container').text\n",
    "job_salary"
   ]
  },
  {
   "cell_type": "markdown",
   "id": "c91a6603",
   "metadata": {},
   "source": [
    "#Generalize the model with a function and getting results form a single page."
   ]
  },
  {
   "cell_type": "code",
   "execution_count": 40,
   "id": "9adc02a5",
   "metadata": {},
   "outputs": [],
   "source": [
    "def get_job_record(card):\n",
    "    \"\"\"Extracts job data from a single card\"\"\"\n",
    "    atag = card.h2.a\n",
    "    job_title = atag.span.get('title')\n",
    "    job_url = 'https://ng.indeed.com' + atag.get('href')\n",
    "    company_name = card.find('span', 'companyName').text\n",
    "    company_location = card.find('div', {'class': 'companyLocation'}).text\n",
    "    job_description = card.find('div', 'job-snippet').text.strip()\n",
    "    date_posted = card.find('span', 'date').text[6:]\n",
    "    today = datetime.today().strftime('%Y-%m-%d')\n",
    "    try:\n",
    "        job_salary = card.find('div', 'metadata salary-snippet-container').text\n",
    "    except:\n",
    "        job_salary = ''\n",
    "    record = (job_title, company_name, company_location, job_description, job_salary, date_posted, today, job_url,)\n",
    "    return record"
   ]
  },
  {
   "cell_type": "code",
   "execution_count": 41,
   "id": "948b790d",
   "metadata": {},
   "outputs": [],
   "source": [
    "records = []\n",
    "\n",
    "for card in cards:\n",
    "    record = get_job_record(card)\n",
    "    records.append(record)"
   ]
  },
  {
   "cell_type": "code",
   "execution_count": 42,
   "id": "977ea3ad",
   "metadata": {},
   "outputs": [
    {
     "data": {
      "text/plain": [
       "[('FRONT END DEVELOPER',\n",
       "  'ICE COMMERCIAL POWER',\n",
       "  'Lagos',\n",
       "  'Front end developers are responsible for ensuring the alignment of web design and user experience requirements, optimizing web pages for maximum efficiency, and…',\n",
       "  '₦200,000 a month',\n",
       "  'Posted 3 days ago',\n",
       "  '2022-07-30',\n",
       "  'https://ng.indeed.com/company/ICE-COMMERCIAL-POWER/jobs/Front-End-Developer-bcd37ee321ecd681?fccid=db5dd3a48943e57e&vjs=3'),\n",
       " ('Frontend Developer',\n",
       "  'Sabi',\n",
       "  'Lagos',\n",
       "  'Craft code that meets our internal standards for style, maintainability, and best practices for a high-scale web environment.',\n",
       "  '',\n",
       "  'Posted 1 day ago',\n",
       "  '2022-07-30',\n",
       "  'https://ng.indeed.com/company/Sabi/jobs/Frontend-Developer-b2eb96beda787da6?fccid=6a333fef94a2ad5e&vjs=3')]"
      ]
     },
     "execution_count": 42,
     "metadata": {},
     "output_type": "execute_result"
    }
   ],
   "source": [
    "records[:2]"
   ]
  },
  {
   "cell_type": "markdown",
   "id": "7b695240",
   "metadata": {},
   "source": [
    "#Getting the next page"
   ]
  },
  {
   "cell_type": "code",
   "execution_count": 47,
   "id": "521c3a03",
   "metadata": {},
   "outputs": [],
   "source": [
    "while True:\n",
    "    try:\n",
    "        page_url = 'https://ng.indeed.com' + sl_soup.find('a', {'aria-label' : 'Next'}).get('href')\n",
    "    except AttributeError:\n",
    "        break\n",
    "    \n",
    "    response = requests.get(url)\n",
    "    sl_soup = BeautifulSoup(response.text, 'html.parser')\n",
    "    cards = sl_soup.findAll('div', 'cardOutline')\n",
    "    for card in cards:\n",
    "        record = get_job_record(card)\n",
    "        records.append(record)\n",
    "    "
   ]
  },
  {
   "cell_type": "code",
   "execution_count": 48,
   "id": "bfa13185",
   "metadata": {},
   "outputs": [
    {
     "data": {
      "text/plain": [
       "390"
      ]
     },
     "execution_count": 48,
     "metadata": {},
     "output_type": "execute_result"
    }
   ],
   "source": []
  }
 ],
 "metadata": {
  "kernelspec": {
   "display_name": "Python 3 (ipykernel)",
   "language": "python",
   "name": "python3"
  },
  "language_info": {
   "codemirror_mode": {
    "name": "ipython",
    "version": 3
   },
   "file_extension": ".py",
   "mimetype": "text/x-python",
   "name": "python",
   "nbconvert_exporter": "python",
   "pygments_lexer": "ipython3",
   "version": "3.10.4"
  }
 },
 "nbformat": 4,
 "nbformat_minor": 5
}
