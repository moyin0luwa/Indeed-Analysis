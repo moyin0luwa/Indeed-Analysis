{
 "cells": [
  {
   "cell_type": "markdown",
   "id": "decb866d",
   "metadata": {},
   "source": [
    "WEB SCRAPING"
   ]
  },
  {
   "cell_type": "code",
   "execution_count": 6,
   "id": "497c722f",
   "metadata": {},
   "outputs": [],
   "source": [
    "# first, the required imports\n",
    "from bs4 import BeautifulSoup\n",
    "import csv\n",
    "from datetime import datetime\n",
    "import requests\n",
    "\n",
    "def get_url(position):\n",
    "    \"\"\"Generates a url for each position(web developer, etc)\"\"\"\n",
    "    url_template = 'https://ng.indeed.com/jobs?q={}&start=0'\n",
    "    url = url_template.format(position)\n",
    "    return url\n",
    "\n",
    "def get_job_record(card):\n",
    "    \"\"\"Extracts job data from a single card\"\"\"\n",
    "    atag = card.h2.a\n",
    "    job_title = atag.span.get('title')\n",
    "    job_url = 'https://ng.indeed.com' + atag.get('href')\n",
    "    company_name = card.find('span', 'companyName').text\n",
    "    company_location = card.find('div', {'class': 'companyLocation'}).text\n",
    "    job_description = card.find('div', 'job-snippet').text.strip()\n",
    "    date_posted = card.find('span', 'date').text[6:]\n",
    "    today = datetime.today().strftime('%Y-%m-%d')\n",
    "    try:\n",
    "        job_salary = card.find('div', 'metadata salary-snippet-container').text\n",
    "    except:\n",
    "        job_salary = ''\n",
    "    record = (job_title, company_name, company_location, job_description, job_salary, date_posted, today, job_url,)\n",
    "    return record\n",
    "\n",
    "def get_job_postings(position):\n",
    "    \"\"\"Runs the main program routine, scraping the job records fro the url\"\"\"\n",
    "    records = []\n",
    "    url = get_url(position)\n",
    "#     extract th ejob data\n",
    "    while True:\n",
    "        response = requests.get(url)\n",
    "        sl_soup = BeautifulSoup(response.text, 'html.parser')\n",
    "        cards = sl_soup.findAll('div', 'cardOutline')\n",
    "        for card in cards:\n",
    "            record = get_job_record(card)\n",
    "            records.append(record)\n",
    "\n",
    "        try:\n",
    "            page_url = 'https://ng.indeed.com' + sl_soup.find('a', {'aria-label' : 'Next'}).get('href')\n",
    "        except AttributeError:\n",
    "            break\n",
    "\n",
    "    #     saving the job data\n",
    "    with open('indeed_job_postings.csv', 'w', newline='', encoding='utf-8') as f:\n",
    "        writer = csv.writer(f)\n",
    "        writer.writerow(['JOB TITLE', 'COMPANY', 'LOCATION', 'JOB DESCRIPTION', 'JOB SALARY',  'DATE OF POSTING', 'EXTRACT DATE', 'JOB URL'])\n",
    "        writer.writerows(records)"
   ]
  },
  {
   "cell_type": "code",
   "execution_count": 8,
   "id": "fe1a8111",
   "metadata": {},
   "outputs": [],
   "source": [
    "get_job_postings('Web developer')"
   ]
  },
  {
   "cell_type": "code",
   "execution_count": null,
   "id": "6a8b4ea4",
   "metadata": {},
   "outputs": [],
   "source": []
  }
 ],
 "metadata": {
  "kernelspec": {
   "display_name": "Python 3 (ipykernel)",
   "language": "python",
   "name": "python3"
  },
  "language_info": {
   "codemirror_mode": {
    "name": "ipython",
    "version": 3
   },
   "file_extension": ".py",
   "mimetype": "text/x-python",
   "name": "python",
   "nbconvert_exporter": "python",
   "pygments_lexer": "ipython3",
   "version": "3.10.4"
  }
 },
 "nbformat": 4,
 "nbformat_minor": 5
}
